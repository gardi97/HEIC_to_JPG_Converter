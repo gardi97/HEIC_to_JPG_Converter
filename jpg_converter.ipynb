{
  "nbformat": 4,
  "nbformat_minor": 0,
  "metadata": {
    "colab": {
      "provenance": []
    },
    "kernelspec": {
      "name": "python3",
      "display_name": "Python 3"
    },
    "language_info": {
      "name": "python"
    }
  },
  "cells": [
    {
      "cell_type": "markdown",
      "source": [
        "# HEIC to JPG Converter\n",
        "\n",
        "This script converts all HEIC images in **to_convert** folder to JPG and saves them to  new **JPG_yyyyddgg_hh:mm:ss** folder.\n",
        "\n",
        "### Notes for use:\n",
        "Insert the the path of the folder containing this script and the name of the folder with the HEIC images respectively in *PATH* and *folder* variables.\n",
        "The **to_convert** must have the same path as the script, otherwise the latter must be specified."
      ],
      "metadata": {
        "id": "xJUV4AheDOQ7"
      }
    },
    {
      "cell_type": "code",
      "source": [
        "#Connection to Google Drive\n",
        "from google.colab import drive\n",
        "drive.mount('/content/drive')"
      ],
      "metadata": {
        "colab": {
          "base_uri": "https://localhost:8080/"
        },
        "id": "OMX667hWpUjP",
        "outputId": "2dc80ead-b54d-4e1f-d1a0-b638f08c09dc"
      },
      "execution_count": 17,
      "outputs": [
        {
          "output_type": "stream",
          "name": "stdout",
          "text": [
            "Drive already mounted at /content/drive; to attempt to forcibly remount, call drive.mount(\"/content/drive\", force_remount=True).\n"
          ]
        }
      ]
    },
    {
      "cell_type": "code",
      "source": [
        "#Installation of libraries\n",
        "!pip install pillow\n",
        "!pip install tqdm\n",
        "!pip install pyheif"
      ],
      "metadata": {
        "colab": {
          "base_uri": "https://localhost:8080/"
        },
        "id": "Dc0QXRtqo4v8",
        "outputId": "e4aa405e-e9a6-49c8-9b55-3fddf9dac078"
      },
      "execution_count": 18,
      "outputs": [
        {
          "output_type": "stream",
          "name": "stdout",
          "text": [
            "Requirement already satisfied: pillow in /usr/local/lib/python3.10/dist-packages (10.4.0)\n",
            "Requirement already satisfied: tqdm in /usr/local/lib/python3.10/dist-packages (4.66.5)\n",
            "Requirement already satisfied: pyheif in /usr/local/lib/python3.10/dist-packages (0.8.0)\n",
            "Requirement already satisfied: cffi>=1.0.0 in /usr/local/lib/python3.10/dist-packages (from pyheif) (1.17.1)\n",
            "Requirement already satisfied: pycparser in /usr/local/lib/python3.10/dist-packages (from cffi>=1.0.0->pyheif) (2.22)\n"
          ]
        }
      ]
    },
    {
      "cell_type": "code",
      "execution_count": 30,
      "metadata": {
        "id": "mP9U7dWVDukq"
      },
      "outputs": [],
      "source": [
        "import os\n",
        "from PIL import Image\n",
        "import pyheif\n",
        "from datetime import datetime\n",
        "from tqdm import tqdm\n",
        "import pytz"
      ]
    },
    {
      "cell_type": "code",
      "source": [
        "PATH = '' #Insert the path of the folder containing this script\n",
        "folder = 'to_convert' #Name of the folder with HEIC images\n",
        "\n",
        "#Creating a new folder for converted files\n",
        "timezone = pytz.timezone('Europe/Rome')\n",
        "new_folder_name = 'JPG_'+datetime.now(timezone).strftime('%Y-%m-%d_%H:%M:%S')\n",
        "os.mkdir(PATH+new_folder_name)\n",
        "\n",
        "for file in tqdm(os.listdir(PATH+folder), 'Files Conversion:'):\n",
        "\n",
        "  heif_file = pyheif.read(PATH+folder+'/'+file)\n",
        "  img = Image.frombytes(heif_file.mode,\n",
        "                        heif_file.size,\n",
        "                        heif_file.data,\n",
        "                        \"raw\",\n",
        "                        heif_file.mode,\n",
        "                        heif_file.stride)\n",
        "  img.save(PATH+new_folder_name+'/'+os.path.splitext(file)[0]+'.jpg')\n"
      ],
      "metadata": {
        "id": "QWCyqo0VFUF9",
        "colab": {
          "base_uri": "https://localhost:8080/"
        },
        "outputId": "fdad7d62-b52b-41b4-cf68-315bf0d550f5"
      },
      "execution_count": 49,
      "outputs": [
        {
          "output_type": "stream",
          "name": "stderr",
          "text": [
            "Files Conversion:: 100%|██████████| 6/6 [00:12<00:00,  2.07s/it]\n"
          ]
        }
      ]
    }
  ]
}
